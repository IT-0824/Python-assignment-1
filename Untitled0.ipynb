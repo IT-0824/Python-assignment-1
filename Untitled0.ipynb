{
  "nbformat": 4,
  "nbformat_minor": 0,
  "metadata": {
    "colab": {
      "name": "Untitled0.ipynb",
      "provenance": [],
      "authorship_tag": "ABX9TyPJyQFoiGVNbFtAx8DK0LaL",
      "include_colab_link": true
    },
    "kernelspec": {
      "name": "python3",
      "display_name": "Python 3"
    },
    "language_info": {
      "name": "python"
    }
  },
  "cells": [
    {
      "cell_type": "markdown",
      "metadata": {
        "id": "view-in-github",
        "colab_type": "text"
      },
      "source": [
        "<a href=\"https://colab.research.google.com/github/IT-0824/Python-assignment-1/blob/main/Untitled0.ipynb\" target=\"_parent\"><img src=\"https://colab.research.google.com/assets/colab-badge.svg\" alt=\"Open In Colab\"/></a>"
      ]
    },
    {
      "cell_type": "code",
      "execution_count": null,
      "metadata": {
        "id": "Qa5-LiQQH1ld"
      },
      "outputs": [],
      "source": [
        ""
      ]
    },
    {
      "cell_type": "code",
      "source": [
        "x=[int(i) for i in input(\"enter values\").split()]\n",
        "s=0\n",
        "for k in x:\n",
        "  s+=k\n",
        "print(x)\n",
        "print(\"the sum is\",s)\n"
      ],
      "metadata": {
        "id": "7DKTnGRJBVdj",
        "outputId": "82f8548b-57b0-4eae-9617-6d0fb6c0eb98",
        "colab": {
          "base_uri": "https://localhost:8080/"
        }
      },
      "execution_count": 1,
      "outputs": [
        {
          "output_type": "stream",
          "name": "stdout",
          "text": [
            "enter values15 8 23\n",
            "[15, 8, 23]\n",
            "the sum is 46\n"
          ]
        }
      ]
    }
  ]
}